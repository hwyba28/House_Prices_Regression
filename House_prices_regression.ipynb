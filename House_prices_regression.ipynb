{
  "nbformat": 4,
  "nbformat_minor": 0,
  "metadata": {
    "colab": {
      "name": "최종 제출.ipynb의 사본",
      "provenance": [],
      "collapsed_sections": []
    },
    "kernelspec": {
      "name": "python3",
      "display_name": "Python 3"
    },
    "language_info": {
      "name": "python"
    },
    "widgets": {
      "application/vnd.jupyter.widget-state+json": {
        "44e42791b5af410b8edfcc01e4021909": {
          "model_module": "@jupyter-widgets/controls",
          "model_name": "HBoxModel",
          "model_module_version": "1.5.0",
          "state": {
            "_view_name": "HBoxView",
            "_dom_classes": [],
            "_model_name": "HBoxModel",
            "_view_module": "@jupyter-widgets/controls",
            "_model_module_version": "1.5.0",
            "_view_count": null,
            "_view_module_version": "1.5.0",
            "box_style": "",
            "layout": "IPY_MODEL_5d1a67bd695c4ce2a07ebda9cfac586b",
            "_model_module": "@jupyter-widgets/controls",
            "children": [
              "IPY_MODEL_fb37f0e9b02a469595f837aa0fb7aaaf",
              "IPY_MODEL_d90ac5638d8549dfa98825fe7aac430b",
              "IPY_MODEL_367b2f39d39b4bc8ae215a373524d429"
            ]
          }
        },
        "5d1a67bd695c4ce2a07ebda9cfac586b": {
          "model_module": "@jupyter-widgets/base",
          "model_name": "LayoutModel",
          "model_module_version": "1.2.0",
          "state": {
            "_view_name": "LayoutView",
            "grid_template_rows": null,
            "right": null,
            "justify_content": null,
            "_view_module": "@jupyter-widgets/base",
            "overflow": null,
            "_model_module_version": "1.2.0",
            "_view_count": null,
            "flex_flow": null,
            "width": null,
            "min_width": null,
            "border": null,
            "align_items": null,
            "bottom": null,
            "_model_module": "@jupyter-widgets/base",
            "top": null,
            "grid_column": null,
            "overflow_y": null,
            "overflow_x": null,
            "grid_auto_flow": null,
            "grid_area": null,
            "grid_template_columns": null,
            "flex": null,
            "_model_name": "LayoutModel",
            "justify_items": null,
            "grid_row": null,
            "max_height": null,
            "align_content": null,
            "visibility": null,
            "align_self": null,
            "height": null,
            "min_height": null,
            "padding": null,
            "grid_auto_rows": null,
            "grid_gap": null,
            "max_width": null,
            "order": null,
            "_view_module_version": "1.2.0",
            "grid_template_areas": null,
            "object_position": null,
            "object_fit": null,
            "grid_auto_columns": null,
            "margin": null,
            "display": null,
            "left": null
          }
        },
        "fb37f0e9b02a469595f837aa0fb7aaaf": {
          "model_module": "@jupyter-widgets/controls",
          "model_name": "HTMLModel",
          "model_module_version": "1.5.0",
          "state": {
            "_view_name": "HTMLView",
            "style": "IPY_MODEL_b5e8375d73ef4207851b38802f83c0fe",
            "_dom_classes": [],
            "description": "",
            "_model_name": "HTMLModel",
            "placeholder": "​",
            "_view_module": "@jupyter-widgets/controls",
            "_model_module_version": "1.5.0",
            "value": "100%",
            "_view_count": null,
            "_view_module_version": "1.5.0",
            "description_tooltip": null,
            "_model_module": "@jupyter-widgets/controls",
            "layout": "IPY_MODEL_d34519eb88d945cfb2857d6585c2c1cc"
          }
        },
        "d90ac5638d8549dfa98825fe7aac430b": {
          "model_module": "@jupyter-widgets/controls",
          "model_name": "FloatProgressModel",
          "model_module_version": "1.5.0",
          "state": {
            "_view_name": "ProgressView",
            "style": "IPY_MODEL_7c083797f3514e0d9007e21cd0ffd075",
            "_dom_classes": [],
            "description": "",
            "_model_name": "FloatProgressModel",
            "bar_style": "success",
            "max": 4,
            "_view_module": "@jupyter-widgets/controls",
            "_model_module_version": "1.5.0",
            "value": 4,
            "_view_count": null,
            "_view_module_version": "1.5.0",
            "orientation": "horizontal",
            "min": 0,
            "description_tooltip": null,
            "_model_module": "@jupyter-widgets/controls",
            "layout": "IPY_MODEL_61ccd7a6456442f3ac99517acd6dffda"
          }
        },
        "367b2f39d39b4bc8ae215a373524d429": {
          "model_module": "@jupyter-widgets/controls",
          "model_name": "HTMLModel",
          "model_module_version": "1.5.0",
          "state": {
            "_view_name": "HTMLView",
            "style": "IPY_MODEL_d16ce17553f24792b3468a34230c0a13",
            "_dom_classes": [],
            "description": "",
            "_model_name": "HTMLModel",
            "placeholder": "​",
            "_view_module": "@jupyter-widgets/controls",
            "_model_module_version": "1.5.0",
            "value": " 4/4 [07:45&lt;00:00, 90.59s/it]",
            "_view_count": null,
            "_view_module_version": "1.5.0",
            "description_tooltip": null,
            "_model_module": "@jupyter-widgets/controls",
            "layout": "IPY_MODEL_9100d2cc5f8a4804b09b4ed532bf6016"
          }
        },
        "b5e8375d73ef4207851b38802f83c0fe": {
          "model_module": "@jupyter-widgets/controls",
          "model_name": "DescriptionStyleModel",
          "model_module_version": "1.5.0",
          "state": {
            "_view_name": "StyleView",
            "_model_name": "DescriptionStyleModel",
            "description_width": "",
            "_view_module": "@jupyter-widgets/base",
            "_model_module_version": "1.5.0",
            "_view_count": null,
            "_view_module_version": "1.2.0",
            "_model_module": "@jupyter-widgets/controls"
          }
        },
        "d34519eb88d945cfb2857d6585c2c1cc": {
          "model_module": "@jupyter-widgets/base",
          "model_name": "LayoutModel",
          "model_module_version": "1.2.0",
          "state": {
            "_view_name": "LayoutView",
            "grid_template_rows": null,
            "right": null,
            "justify_content": null,
            "_view_module": "@jupyter-widgets/base",
            "overflow": null,
            "_model_module_version": "1.2.0",
            "_view_count": null,
            "flex_flow": null,
            "width": null,
            "min_width": null,
            "border": null,
            "align_items": null,
            "bottom": null,
            "_model_module": "@jupyter-widgets/base",
            "top": null,
            "grid_column": null,
            "overflow_y": null,
            "overflow_x": null,
            "grid_auto_flow": null,
            "grid_area": null,
            "grid_template_columns": null,
            "flex": null,
            "_model_name": "LayoutModel",
            "justify_items": null,
            "grid_row": null,
            "max_height": null,
            "align_content": null,
            "visibility": null,
            "align_self": null,
            "height": null,
            "min_height": null,
            "padding": null,
            "grid_auto_rows": null,
            "grid_gap": null,
            "max_width": null,
            "order": null,
            "_view_module_version": "1.2.0",
            "grid_template_areas": null,
            "object_position": null,
            "object_fit": null,
            "grid_auto_columns": null,
            "margin": null,
            "display": null,
            "left": null
          }
        },
        "7c083797f3514e0d9007e21cd0ffd075": {
          "model_module": "@jupyter-widgets/controls",
          "model_name": "ProgressStyleModel",
          "model_module_version": "1.5.0",
          "state": {
            "_view_name": "StyleView",
            "_model_name": "ProgressStyleModel",
            "description_width": "",
            "_view_module": "@jupyter-widgets/base",
            "_model_module_version": "1.5.0",
            "_view_count": null,
            "_view_module_version": "1.2.0",
            "bar_color": null,
            "_model_module": "@jupyter-widgets/controls"
          }
        },
        "61ccd7a6456442f3ac99517acd6dffda": {
          "model_module": "@jupyter-widgets/base",
          "model_name": "LayoutModel",
          "model_module_version": "1.2.0",
          "state": {
            "_view_name": "LayoutView",
            "grid_template_rows": null,
            "right": null,
            "justify_content": null,
            "_view_module": "@jupyter-widgets/base",
            "overflow": null,
            "_model_module_version": "1.2.0",
            "_view_count": null,
            "flex_flow": null,
            "width": null,
            "min_width": null,
            "border": null,
            "align_items": null,
            "bottom": null,
            "_model_module": "@jupyter-widgets/base",
            "top": null,
            "grid_column": null,
            "overflow_y": null,
            "overflow_x": null,
            "grid_auto_flow": null,
            "grid_area": null,
            "grid_template_columns": null,
            "flex": null,
            "_model_name": "LayoutModel",
            "justify_items": null,
            "grid_row": null,
            "max_height": null,
            "align_content": null,
            "visibility": null,
            "align_self": null,
            "height": null,
            "min_height": null,
            "padding": null,
            "grid_auto_rows": null,
            "grid_gap": null,
            "max_width": null,
            "order": null,
            "_view_module_version": "1.2.0",
            "grid_template_areas": null,
            "object_position": null,
            "object_fit": null,
            "grid_auto_columns": null,
            "margin": null,
            "display": null,
            "left": null
          }
        },
        "d16ce17553f24792b3468a34230c0a13": {
          "model_module": "@jupyter-widgets/controls",
          "model_name": "DescriptionStyleModel",
          "model_module_version": "1.5.0",
          "state": {
            "_view_name": "StyleView",
            "_model_name": "DescriptionStyleModel",
            "description_width": "",
            "_view_module": "@jupyter-widgets/base",
            "_model_module_version": "1.5.0",
            "_view_count": null,
            "_view_module_version": "1.2.0",
            "_model_module": "@jupyter-widgets/controls"
          }
        },
        "9100d2cc5f8a4804b09b4ed532bf6016": {
          "model_module": "@jupyter-widgets/base",
          "model_name": "LayoutModel",
          "model_module_version": "1.2.0",
          "state": {
            "_view_name": "LayoutView",
            "grid_template_rows": null,
            "right": null,
            "justify_content": null,
            "_view_module": "@jupyter-widgets/base",
            "overflow": null,
            "_model_module_version": "1.2.0",
            "_view_count": null,
            "flex_flow": null,
            "width": null,
            "min_width": null,
            "border": null,
            "align_items": null,
            "bottom": null,
            "_model_module": "@jupyter-widgets/base",
            "top": null,
            "grid_column": null,
            "overflow_y": null,
            "overflow_x": null,
            "grid_auto_flow": null,
            "grid_area": null,
            "grid_template_columns": null,
            "flex": null,
            "_model_name": "LayoutModel",
            "justify_items": null,
            "grid_row": null,
            "max_height": null,
            "align_content": null,
            "visibility": null,
            "align_self": null,
            "height": null,
            "min_height": null,
            "padding": null,
            "grid_auto_rows": null,
            "grid_gap": null,
            "max_width": null,
            "order": null,
            "_view_module_version": "1.2.0",
            "grid_template_areas": null,
            "object_position": null,
            "object_fit": null,
            "grid_auto_columns": null,
            "margin": null,
            "display": null,
            "left": null
          }
        }
      }
    }
  },
  "cells": [
    {
      "cell_type": "code",
      "execution_count": 4,
      "metadata": {
        "id": "FEU7FeKkAfXS"
      },
      "outputs": [],
      "source": [
        "import pandas as pd\n",
        "import os\n",
        "import os.path as osp\n",
        "import seaborn as sns\n",
        "import numpy as np\n",
        "import matplotlib.pyplot as plt\n",
        "import warnings\n",
        "warnings.filterwarnings('ignore')\n",
        "from scipy.stats import norm\n"
      ]
    },
    {
      "cell_type": "code",
      "source": [
        "# 데이터 불러오기\n",
        "train = pd.read_csv('sample_data/housing_train.csv')\n",
        "test = pd.read_csv('sample_data/housing_test.csv')\n",
        "\n",
        "train.drop('id', axis=1, inplace=True)\n",
        "test.drop('id', axis=1, inplace=True)\n",
        "\n",
        "train.head()"
      ],
      "metadata": {
        "colab": {
          "base_uri": "https://localhost:8080/",
          "height": 204
        },
        "id": "5IjO9xjAAq_6",
        "outputId": "0ebc869c-6064-4b79-c72e-8e60930f97db"
      },
      "execution_count": 5,
      "outputs": [
        {
          "output_type": "execute_result",
          "data": {
            "text/html": [
              "\n",
              "  <div id=\"df-f05a84cc-c4d1-499f-aaec-24342cb08f6f\">\n",
              "    <div class=\"colab-df-container\">\n",
              "      <div>\n",
              "<style scoped>\n",
              "    .dataframe tbody tr th:only-of-type {\n",
              "        vertical-align: middle;\n",
              "    }\n",
              "\n",
              "    .dataframe tbody tr th {\n",
              "        vertical-align: top;\n",
              "    }\n",
              "\n",
              "    .dataframe thead th {\n",
              "        text-align: right;\n",
              "    }\n",
              "</style>\n",
              "<table border=\"1\" class=\"dataframe\">\n",
              "  <thead>\n",
              "    <tr style=\"text-align: right;\">\n",
              "      <th></th>\n",
              "      <th>Overall Qual</th>\n",
              "      <th>Gr Liv Area</th>\n",
              "      <th>Exter Qual</th>\n",
              "      <th>Garage Cars</th>\n",
              "      <th>Garage Area</th>\n",
              "      <th>Kitchen Qual</th>\n",
              "      <th>Total Bsmt SF</th>\n",
              "      <th>1st Flr SF</th>\n",
              "      <th>Bsmt Qual</th>\n",
              "      <th>Full Bath</th>\n",
              "      <th>Year Built</th>\n",
              "      <th>Year Remod/Add</th>\n",
              "      <th>Garage Yr Blt</th>\n",
              "      <th>target</th>\n",
              "    </tr>\n",
              "  </thead>\n",
              "  <tbody>\n",
              "    <tr>\n",
              "      <th>0</th>\n",
              "      <td>10</td>\n",
              "      <td>2392</td>\n",
              "      <td>Ex</td>\n",
              "      <td>3</td>\n",
              "      <td>968</td>\n",
              "      <td>Ex</td>\n",
              "      <td>2392</td>\n",
              "      <td>2392</td>\n",
              "      <td>Ex</td>\n",
              "      <td>2</td>\n",
              "      <td>2003</td>\n",
              "      <td>2003</td>\n",
              "      <td>2003</td>\n",
              "      <td>386250</td>\n",
              "    </tr>\n",
              "    <tr>\n",
              "      <th>1</th>\n",
              "      <td>7</td>\n",
              "      <td>1352</td>\n",
              "      <td>Gd</td>\n",
              "      <td>2</td>\n",
              "      <td>466</td>\n",
              "      <td>Gd</td>\n",
              "      <td>1352</td>\n",
              "      <td>1352</td>\n",
              "      <td>Ex</td>\n",
              "      <td>2</td>\n",
              "      <td>2006</td>\n",
              "      <td>2007</td>\n",
              "      <td>2006</td>\n",
              "      <td>194000</td>\n",
              "    </tr>\n",
              "    <tr>\n",
              "      <th>2</th>\n",
              "      <td>5</td>\n",
              "      <td>900</td>\n",
              "      <td>TA</td>\n",
              "      <td>1</td>\n",
              "      <td>288</td>\n",
              "      <td>TA</td>\n",
              "      <td>864</td>\n",
              "      <td>900</td>\n",
              "      <td>TA</td>\n",
              "      <td>1</td>\n",
              "      <td>1967</td>\n",
              "      <td>1967</td>\n",
              "      <td>1967</td>\n",
              "      <td>123000</td>\n",
              "    </tr>\n",
              "    <tr>\n",
              "      <th>3</th>\n",
              "      <td>5</td>\n",
              "      <td>1174</td>\n",
              "      <td>TA</td>\n",
              "      <td>2</td>\n",
              "      <td>576</td>\n",
              "      <td>Gd</td>\n",
              "      <td>680</td>\n",
              "      <td>680</td>\n",
              "      <td>TA</td>\n",
              "      <td>1</td>\n",
              "      <td>1900</td>\n",
              "      <td>2006</td>\n",
              "      <td>2000</td>\n",
              "      <td>135000</td>\n",
              "    </tr>\n",
              "    <tr>\n",
              "      <th>4</th>\n",
              "      <td>7</td>\n",
              "      <td>1958</td>\n",
              "      <td>Gd</td>\n",
              "      <td>3</td>\n",
              "      <td>936</td>\n",
              "      <td>Gd</td>\n",
              "      <td>1026</td>\n",
              "      <td>1026</td>\n",
              "      <td>Gd</td>\n",
              "      <td>2</td>\n",
              "      <td>2005</td>\n",
              "      <td>2005</td>\n",
              "      <td>2005</td>\n",
              "      <td>250000</td>\n",
              "    </tr>\n",
              "  </tbody>\n",
              "</table>\n",
              "</div>\n",
              "      <button class=\"colab-df-convert\" onclick=\"convertToInteractive('df-f05a84cc-c4d1-499f-aaec-24342cb08f6f')\"\n",
              "              title=\"Convert this dataframe to an interactive table.\"\n",
              "              style=\"display:none;\">\n",
              "        \n",
              "  <svg xmlns=\"http://www.w3.org/2000/svg\" height=\"24px\"viewBox=\"0 0 24 24\"\n",
              "       width=\"24px\">\n",
              "    <path d=\"M0 0h24v24H0V0z\" fill=\"none\"/>\n",
              "    <path d=\"M18.56 5.44l.94 2.06.94-2.06 2.06-.94-2.06-.94-.94-2.06-.94 2.06-2.06.94zm-11 1L8.5 8.5l.94-2.06 2.06-.94-2.06-.94L8.5 2.5l-.94 2.06-2.06.94zm10 10l.94 2.06.94-2.06 2.06-.94-2.06-.94-.94-2.06-.94 2.06-2.06.94z\"/><path d=\"M17.41 7.96l-1.37-1.37c-.4-.4-.92-.59-1.43-.59-.52 0-1.04.2-1.43.59L10.3 9.45l-7.72 7.72c-.78.78-.78 2.05 0 2.83L4 21.41c.39.39.9.59 1.41.59.51 0 1.02-.2 1.41-.59l7.78-7.78 2.81-2.81c.8-.78.8-2.07 0-2.86zM5.41 20L4 18.59l7.72-7.72 1.47 1.35L5.41 20z\"/>\n",
              "  </svg>\n",
              "      </button>\n",
              "      \n",
              "  <style>\n",
              "    .colab-df-container {\n",
              "      display:flex;\n",
              "      flex-wrap:wrap;\n",
              "      gap: 12px;\n",
              "    }\n",
              "\n",
              "    .colab-df-convert {\n",
              "      background-color: #E8F0FE;\n",
              "      border: none;\n",
              "      border-radius: 50%;\n",
              "      cursor: pointer;\n",
              "      display: none;\n",
              "      fill: #1967D2;\n",
              "      height: 32px;\n",
              "      padding: 0 0 0 0;\n",
              "      width: 32px;\n",
              "    }\n",
              "\n",
              "    .colab-df-convert:hover {\n",
              "      background-color: #E2EBFA;\n",
              "      box-shadow: 0px 1px 2px rgba(60, 64, 67, 0.3), 0px 1px 3px 1px rgba(60, 64, 67, 0.15);\n",
              "      fill: #174EA6;\n",
              "    }\n",
              "\n",
              "    [theme=dark] .colab-df-convert {\n",
              "      background-color: #3B4455;\n",
              "      fill: #D2E3FC;\n",
              "    }\n",
              "\n",
              "    [theme=dark] .colab-df-convert:hover {\n",
              "      background-color: #434B5C;\n",
              "      box-shadow: 0px 1px 3px 1px rgba(0, 0, 0, 0.15);\n",
              "      filter: drop-shadow(0px 1px 2px rgba(0, 0, 0, 0.3));\n",
              "      fill: #FFFFFF;\n",
              "    }\n",
              "  </style>\n",
              "\n",
              "      <script>\n",
              "        const buttonEl =\n",
              "          document.querySelector('#df-f05a84cc-c4d1-499f-aaec-24342cb08f6f button.colab-df-convert');\n",
              "        buttonEl.style.display =\n",
              "          google.colab.kernel.accessAllowed ? 'block' : 'none';\n",
              "\n",
              "        async function convertToInteractive(key) {\n",
              "          const element = document.querySelector('#df-f05a84cc-c4d1-499f-aaec-24342cb08f6f');\n",
              "          const dataTable =\n",
              "            await google.colab.kernel.invokeFunction('convertToInteractive',\n",
              "                                                     [key], {});\n",
              "          if (!dataTable) return;\n",
              "\n",
              "          const docLinkHtml = 'Like what you see? Visit the ' +\n",
              "            '<a target=\"_blank\" href=https://colab.research.google.com/notebooks/data_table.ipynb>data table notebook</a>'\n",
              "            + ' to learn more about interactive tables.';\n",
              "          element.innerHTML = '';\n",
              "          dataTable['output_type'] = 'display_data';\n",
              "          await google.colab.output.renderOutput(dataTable, element);\n",
              "          const docLink = document.createElement('div');\n",
              "          docLink.innerHTML = docLinkHtml;\n",
              "          element.appendChild(docLink);\n",
              "        }\n",
              "      </script>\n",
              "    </div>\n",
              "  </div>\n",
              "  "
            ],
            "text/plain": [
              "   Overall Qual  Gr Liv Area Exter Qual  ...  Year Remod/Add  Garage Yr Blt  target\n",
              "0            10         2392         Ex  ...            2003           2003  386250\n",
              "1             7         1352         Gd  ...            2007           2006  194000\n",
              "2             5          900         TA  ...            1967           1967  123000\n",
              "3             5         1174         TA  ...            2006           2000  135000\n",
              "4             7         1958         Gd  ...            2005           2005  250000\n",
              "\n",
              "[5 rows x 14 columns]"
            ]
          },
          "metadata": {},
          "execution_count": 5
        }
      ]
    },
    {
      "cell_type": "code",
      "source": [
        "train.shape"
      ],
      "metadata": {
        "colab": {
          "base_uri": "https://localhost:8080/"
        },
        "id": "8IF8EYvz0H_6",
        "outputId": "35fbf6f2-46d8-48f6-e266-bd787cf4e99e"
      },
      "execution_count": 6,
      "outputs": [
        {
          "output_type": "execute_result",
          "data": {
            "text/plain": [
              "(1350, 14)"
            ]
          },
          "metadata": {},
          "execution_count": 6
        }
      ]
    },
    {
      "cell_type": "code",
      "source": [
        "# 중복 제거\n",
        "train = train.drop_duplicates()"
      ],
      "metadata": {
        "id": "Q0S2z2N5BE00"
      },
      "execution_count": 7,
      "outputs": []
    },
    {
      "cell_type": "code",
      "source": [
        "# 결측치 여부\n",
        "train.isnull().sum()"
      ],
      "metadata": {
        "id": "QqWv67bad8Iu",
        "colab": {
          "base_uri": "https://localhost:8080/"
        },
        "outputId": "e5186a11-871c-4928-b90e-1b5f1ca0657f"
      },
      "execution_count": 8,
      "outputs": [
        {
          "output_type": "execute_result",
          "data": {
            "text/plain": [
              "Overall Qual      0\n",
              "Gr Liv Area       0\n",
              "Exter Qual        0\n",
              "Garage Cars       0\n",
              "Garage Area       0\n",
              "Kitchen Qual      0\n",
              "Total Bsmt SF     0\n",
              "1st Flr SF        0\n",
              "Bsmt Qual         0\n",
              "Full Bath         0\n",
              "Year Built        0\n",
              "Year Remod/Add    0\n",
              "Garage Yr Blt     0\n",
              "target            0\n",
              "dtype: int64"
            ]
          },
          "metadata": {},
          "execution_count": 8
        }
      ]
    },
    {
      "cell_type": "code",
      "source": [
        "# 데이터형 확인\n",
        "train.dtypes\n",
        "test.dtypes"
      ],
      "metadata": {
        "colab": {
          "base_uri": "https://localhost:8080/"
        },
        "id": "R7lsKZHjKZqj",
        "outputId": "427c4ddb-c003-4316-d73b-a5b1b606bfe4"
      },
      "execution_count": 9,
      "outputs": [
        {
          "output_type": "execute_result",
          "data": {
            "text/plain": [
              "Overall Qual       int64\n",
              "Gr Liv Area        int64\n",
              "Exter Qual        object\n",
              "Garage Cars        int64\n",
              "Garage Area        int64\n",
              "Kitchen Qual      object\n",
              "Total Bsmt SF      int64\n",
              "1st Flr SF         int64\n",
              "Bsmt Qual         object\n",
              "Full Bath          int64\n",
              "Year Built         int64\n",
              "Year Remod/Add     int64\n",
              "Garage Yr Blt      int64\n",
              "dtype: object"
            ]
          },
          "metadata": {},
          "execution_count": 9
        }
      ]
    },
    {
      "cell_type": "code",
      "source": [
        "# 이산화\n",
        "train.reset_index(inplace=True)\n",
        "test.reset_index(inplace=True)\n",
        "\n",
        "kind = ['Exter Qual', 'Kitchen Qual', 'Bsmt Qual']\n",
        "Qual = ['None', 'Po', 'Fa', 'TA', 'Gd', 'Ex']\n",
        "\n",
        "def disc(df):\n",
        "  for k in range(0,3):\n",
        "     for q in range(0,6):\n",
        "       df = df.replace({kind[k]:{Qual[q]:q}})\n",
        "  return df\n",
        "\n",
        "train = disc(train)\n",
        "test = disc(test)"
      ],
      "metadata": {
        "id": "uiv1HHXhrsln"
      },
      "execution_count": 11,
      "outputs": []
    },
    {
      "cell_type": "code",
      "source": [
        "# 이상치 대체 1)\n",
        "train[train['Garage Yr Blt'] > 2022]\n",
        "train['Garage Yr Blt'] = np.where(train['Garage Yr Blt'] > 2021, 2007, train['Garage Yr Blt'])"
      ],
      "metadata": {
        "id": "O7j-Fe3XBSA6"
      },
      "execution_count": 14,
      "outputs": []
    },
    {
      "cell_type": "code",
      "source": [
        "# 이상치 대체 2,3,4)\n",
        "\n",
        "# Full Bath - Gr Liv Area 상관관계 | Full Bath == 0\n",
        "train['Full Bath'] = np.where((train['Full Bath'] == 0), (train['Gr Liv Area']/875).astype(int), train['Full Bath'])\n",
        "# Year Built' > Garage Yr Blt\n",
        "train['Garage Yr Blt'] = np.where(train['Year Built'] > train['Garage Yr Blt'], train['Year Built']+5, train['Garage Yr Blt'])\n",
        "# Year Remod/Add < Year Built\n",
        "train['Year Remod/Add'] = np.where(train['Year Remod/Add'] < train['Year Built'], train['Year Remod/Add']+12, train['Year Remod/Add'])"
      ],
      "metadata": {
        "id": "aBd9Z985fCpq"
      },
      "execution_count": 15,
      "outputs": []
    },
    {
      "cell_type": "code",
      "source": [
        "plt.figure(figsize=(20,10))\n",
        "plt.scatter(x=train['Year Built'], y=train['target'])\n",
        "plt.figure(figsize=(20,10))\n",
        "plt.scatter(x=train['Garage Area'], y=train['target'])\n",
        "plt.figure(figsize=(20,10))\n",
        "plt.scatter(x=train['Year Remod/Add'], y=train['target'])\n",
        "plt.figure(figsize=(20,10))\n",
        "plt.scatter(x=train['Garage Yr Blt'], y=train['target'])"
      ],
      "metadata": {
        "id": "rLKeSDMu31zV"
      },
      "execution_count": null,
      "outputs": []
    },
    {
      "cell_type": "code",
      "source": [
        "train[['Overall Qual','Exter Qual','Kitchen Qual','Bsmt Qual']].describe()"
      ],
      "metadata": {
        "colab": {
          "base_uri": "https://localhost:8080/",
          "height": 297
        },
        "id": "skJTjphvO94n",
        "outputId": "74c65744-98fc-47cb-fb02-53d24bbf87b6"
      },
      "execution_count": 17,
      "outputs": [
        {
          "output_type": "execute_result",
          "data": {
            "text/html": [
              "\n",
              "  <div id=\"df-6ce79af4-f18b-41c8-a30b-beae82be32f6\">\n",
              "    <div class=\"colab-df-container\">\n",
              "      <div>\n",
              "<style scoped>\n",
              "    .dataframe tbody tr th:only-of-type {\n",
              "        vertical-align: middle;\n",
              "    }\n",
              "\n",
              "    .dataframe tbody tr th {\n",
              "        vertical-align: top;\n",
              "    }\n",
              "\n",
              "    .dataframe thead th {\n",
              "        text-align: right;\n",
              "    }\n",
              "</style>\n",
              "<table border=\"1\" class=\"dataframe\">\n",
              "  <thead>\n",
              "    <tr style=\"text-align: right;\">\n",
              "      <th></th>\n",
              "      <th>Overall Qual</th>\n",
              "      <th>Exter Qual</th>\n",
              "      <th>Kitchen Qual</th>\n",
              "      <th>Bsmt Qual</th>\n",
              "    </tr>\n",
              "  </thead>\n",
              "  <tbody>\n",
              "    <tr>\n",
              "      <th>count</th>\n",
              "      <td>1349.000000</td>\n",
              "      <td>1349.000000</td>\n",
              "      <td>1349.000000</td>\n",
              "      <td>1349.000000</td>\n",
              "    </tr>\n",
              "    <tr>\n",
              "      <th>mean</th>\n",
              "      <td>6.208302</td>\n",
              "      <td>3.426242</td>\n",
              "      <td>3.556709</td>\n",
              "      <td>3.606375</td>\n",
              "    </tr>\n",
              "    <tr>\n",
              "      <th>std</th>\n",
              "      <td>1.338338</td>\n",
              "      <td>0.573856</td>\n",
              "      <td>0.663209</td>\n",
              "      <td>0.694395</td>\n",
              "    </tr>\n",
              "    <tr>\n",
              "      <th>min</th>\n",
              "      <td>2.000000</td>\n",
              "      <td>2.000000</td>\n",
              "      <td>2.000000</td>\n",
              "      <td>1.000000</td>\n",
              "    </tr>\n",
              "    <tr>\n",
              "      <th>25%</th>\n",
              "      <td>5.000000</td>\n",
              "      <td>3.000000</td>\n",
              "      <td>3.000000</td>\n",
              "      <td>3.000000</td>\n",
              "    </tr>\n",
              "    <tr>\n",
              "      <th>50%</th>\n",
              "      <td>6.000000</td>\n",
              "      <td>3.000000</td>\n",
              "      <td>3.000000</td>\n",
              "      <td>4.000000</td>\n",
              "    </tr>\n",
              "    <tr>\n",
              "      <th>75%</th>\n",
              "      <td>7.000000</td>\n",
              "      <td>4.000000</td>\n",
              "      <td>4.000000</td>\n",
              "      <td>4.000000</td>\n",
              "    </tr>\n",
              "    <tr>\n",
              "      <th>max</th>\n",
              "      <td>10.000000</td>\n",
              "      <td>5.000000</td>\n",
              "      <td>5.000000</td>\n",
              "      <td>5.000000</td>\n",
              "    </tr>\n",
              "  </tbody>\n",
              "</table>\n",
              "</div>\n",
              "      <button class=\"colab-df-convert\" onclick=\"convertToInteractive('df-6ce79af4-f18b-41c8-a30b-beae82be32f6')\"\n",
              "              title=\"Convert this dataframe to an interactive table.\"\n",
              "              style=\"display:none;\">\n",
              "        \n",
              "  <svg xmlns=\"http://www.w3.org/2000/svg\" height=\"24px\"viewBox=\"0 0 24 24\"\n",
              "       width=\"24px\">\n",
              "    <path d=\"M0 0h24v24H0V0z\" fill=\"none\"/>\n",
              "    <path d=\"M18.56 5.44l.94 2.06.94-2.06 2.06-.94-2.06-.94-.94-2.06-.94 2.06-2.06.94zm-11 1L8.5 8.5l.94-2.06 2.06-.94-2.06-.94L8.5 2.5l-.94 2.06-2.06.94zm10 10l.94 2.06.94-2.06 2.06-.94-2.06-.94-.94-2.06-.94 2.06-2.06.94z\"/><path d=\"M17.41 7.96l-1.37-1.37c-.4-.4-.92-.59-1.43-.59-.52 0-1.04.2-1.43.59L10.3 9.45l-7.72 7.72c-.78.78-.78 2.05 0 2.83L4 21.41c.39.39.9.59 1.41.59.51 0 1.02-.2 1.41-.59l7.78-7.78 2.81-2.81c.8-.78.8-2.07 0-2.86zM5.41 20L4 18.59l7.72-7.72 1.47 1.35L5.41 20z\"/>\n",
              "  </svg>\n",
              "      </button>\n",
              "      \n",
              "  <style>\n",
              "    .colab-df-container {\n",
              "      display:flex;\n",
              "      flex-wrap:wrap;\n",
              "      gap: 12px;\n",
              "    }\n",
              "\n",
              "    .colab-df-convert {\n",
              "      background-color: #E8F0FE;\n",
              "      border: none;\n",
              "      border-radius: 50%;\n",
              "      cursor: pointer;\n",
              "      display: none;\n",
              "      fill: #1967D2;\n",
              "      height: 32px;\n",
              "      padding: 0 0 0 0;\n",
              "      width: 32px;\n",
              "    }\n",
              "\n",
              "    .colab-df-convert:hover {\n",
              "      background-color: #E2EBFA;\n",
              "      box-shadow: 0px 1px 2px rgba(60, 64, 67, 0.3), 0px 1px 3px 1px rgba(60, 64, 67, 0.15);\n",
              "      fill: #174EA6;\n",
              "    }\n",
              "\n",
              "    [theme=dark] .colab-df-convert {\n",
              "      background-color: #3B4455;\n",
              "      fill: #D2E3FC;\n",
              "    }\n",
              "\n",
              "    [theme=dark] .colab-df-convert:hover {\n",
              "      background-color: #434B5C;\n",
              "      box-shadow: 0px 1px 3px 1px rgba(0, 0, 0, 0.15);\n",
              "      filter: drop-shadow(0px 1px 2px rgba(0, 0, 0, 0.3));\n",
              "      fill: #FFFFFF;\n",
              "    }\n",
              "  </style>\n",
              "\n",
              "      <script>\n",
              "        const buttonEl =\n",
              "          document.querySelector('#df-6ce79af4-f18b-41c8-a30b-beae82be32f6 button.colab-df-convert');\n",
              "        buttonEl.style.display =\n",
              "          google.colab.kernel.accessAllowed ? 'block' : 'none';\n",
              "\n",
              "        async function convertToInteractive(key) {\n",
              "          const element = document.querySelector('#df-6ce79af4-f18b-41c8-a30b-beae82be32f6');\n",
              "          const dataTable =\n",
              "            await google.colab.kernel.invokeFunction('convertToInteractive',\n",
              "                                                     [key], {});\n",
              "          if (!dataTable) return;\n",
              "\n",
              "          const docLinkHtml = 'Like what you see? Visit the ' +\n",
              "            '<a target=\"_blank\" href=https://colab.research.google.com/notebooks/data_table.ipynb>data table notebook</a>'\n",
              "            + ' to learn more about interactive tables.';\n",
              "          element.innerHTML = '';\n",
              "          dataTable['output_type'] = 'display_data';\n",
              "          await google.colab.output.renderOutput(dataTable, element);\n",
              "          const docLink = document.createElement('div');\n",
              "          docLink.innerHTML = docLinkHtml;\n",
              "          element.appendChild(docLink);\n",
              "        }\n",
              "      </script>\n",
              "    </div>\n",
              "  </div>\n",
              "  "
            ],
            "text/plain": [
              "       Overall Qual   Exter Qual  Kitchen Qual    Bsmt Qual\n",
              "count   1349.000000  1349.000000   1349.000000  1349.000000\n",
              "mean       6.208302     3.426242      3.556709     3.606375\n",
              "std        1.338338     0.573856      0.663209     0.694395\n",
              "min        2.000000     2.000000      2.000000     1.000000\n",
              "25%        5.000000     3.000000      3.000000     3.000000\n",
              "50%        6.000000     3.000000      3.000000     4.000000\n",
              "75%        7.000000     4.000000      4.000000     4.000000\n",
              "max       10.000000     5.000000      5.000000     5.000000"
            ]
          },
          "metadata": {},
          "execution_count": 17
        }
      ]
    },
    {
      "cell_type": "code",
      "source": [
        "# 동화책님 참조\n",
        "# kitchen Qual / Bsmt Qual / Exter Qual 병합\n",
        "# 1개 Car Area = Garage Area / Garage Cars\n",
        "# 1층 외 층 여부\n",
        "\n",
        "def drived_var(df):\n",
        "  df['EKB_Qual'] = df[[\"Exter Qual\", \"Kitchen Qual\", \"Bsmt Qual\"]].sum(axis=1)\n",
        "  df['Car Area'] = df['Garage Area']/df['Garage Cars']\n",
        "  df['A_flr SF'] = df['Gr Liv Area'] - df['1st Flr SF']\n",
        "  df['A_flr'] = (df['A_flr SF']).apply(lambda x : 1 if x > 0 else 0)\n",
        "  return df\n",
        "\n",
        "train = drived_var(train)\n",
        "test = drived_var(test)"
      ],
      "metadata": {
        "id": "hnS3YDNiC2_l"
      },
      "execution_count": 19,
      "outputs": []
    },
    {
      "cell_type": "code",
      "source": [
        "train.hist(figsize=(16, 16))"
      ],
      "metadata": {
        "colab": {
          "base_uri": "https://localhost:8080/",
          "height": 1000
        },
        "id": "H9DgXIMz-QBn",
        "outputId": "27628698-262f-4593-b93a-73aa7a968e1b"
      },
      "execution_count": 20,
      "outputs": [
        {
          "output_type": "execute_result",
          "data": {
            "text/plain": [
              "array([[<matplotlib.axes._subplots.AxesSubplot object at 0x7fcb475a6110>,\n",
              "        <matplotlib.axes._subplots.AxesSubplot object at 0x7fcb46f83890>,\n",
              "        <matplotlib.axes._subplots.AxesSubplot object at 0x7fcb46f38e90>,\n",
              "        <matplotlib.axes._subplots.AxesSubplot object at 0x7fcb46ef94d0>],\n",
              "       [<matplotlib.axes._subplots.AxesSubplot object at 0x7fcb46f2fad0>,\n",
              "        <matplotlib.axes._subplots.AxesSubplot object at 0x7fcb46e71110>,\n",
              "        <matplotlib.axes._subplots.AxesSubplot object at 0x7fcb46ea6790>,\n",
              "        <matplotlib.axes._subplots.AxesSubplot object at 0x7fcb46e5ccd0>],\n",
              "       [<matplotlib.axes._subplots.AxesSubplot object at 0x7fcb46e5cd10>,\n",
              "        <matplotlib.axes._subplots.AxesSubplot object at 0x7fcb46e20450>,\n",
              "        <matplotlib.axes._subplots.AxesSubplot object at 0x7fcb46d8df50>,\n",
              "        <matplotlib.axes._subplots.AxesSubplot object at 0x7fcb46d50590>],\n",
              "       [<matplotlib.axes._subplots.AxesSubplot object at 0x7fcb46d06b90>,\n",
              "        <matplotlib.axes._subplots.AxesSubplot object at 0x7fcb46ccb1d0>,\n",
              "        <matplotlib.axes._subplots.AxesSubplot object at 0x7fcb46c7f7d0>,\n",
              "        <matplotlib.axes._subplots.AxesSubplot object at 0x7fcb46c34dd0>],\n",
              "       [<matplotlib.axes._subplots.AxesSubplot object at 0x7fcb46bf8410>,\n",
              "        <matplotlib.axes._subplots.AxesSubplot object at 0x7fcb46c2ea10>,\n",
              "        <matplotlib.axes._subplots.AxesSubplot object at 0x7fcb46be6fd0>,\n",
              "        <matplotlib.axes._subplots.AxesSubplot object at 0x7fcb46ba7650>]],\n",
              "      dtype=object)"
            ]
          },
          "metadata": {},
          "execution_count": 20
        },
        {
          "output_type": "display_data",
          "data": {
            "image/png": "[encoded data removed]",
            "text/plain": [
              "<Figure size 1152x1152 with 20 Axes>"
            ]
          },
          "metadata": {
            "needs_background": "light"
          }
        }
      ]
    },
    {
      "cell_type": "code",
      "source": [
        "# 로그 변환\n",
        "train_ = train.copy()\n",
        "train['target'] = np.log1p(train['target'])"
      ],
      "metadata": {
        "id": "FntNAh_F-lw0"
      },
      "execution_count": 21,
      "outputs": []
    },
    {
      "cell_type": "code",
      "source": [
        "# 분포 확인\n",
        "f, ax = plt.subplots(figsize = (10, 6)) \n",
        "sns.distplot(train['target'])"
      ],
      "metadata": {
        "id": "COQm-3wQ-uJb"
      },
      "execution_count": null,
      "outputs": []
    },
    {
      "cell_type": "code",
      "source": [
        "# train Data -> 표준화\n",
        "from sklearn.preprocessing import StandardScaler, RobustScaler\n",
        "Scaler = RobustScaler()\n",
        "df = train[['Gr Liv Area', 'Garage Area', 'Total Bsmt SF', '1st Flr SF', 'Year Built', 'Year Remod/Add', 'Garage Yr Blt']]\n",
        "\n",
        "Scaler.fit(df)\n",
        "Scaled_df = Scaler.transform(df)\n",
        "Scaled_df = pd.DataFrame(data = Scaled_df)\n",
        "train_ = train.copy()\n",
        "c = 0\n",
        "for i in df.columns:  \n",
        "  train[i] = Scaled_df[c]\n",
        "  c += 1"
      ],
      "metadata": {
        "id": "rajCJPISQ6yv"
      },
      "execution_count": 23,
      "outputs": []
    },
    {
      "cell_type": "code",
      "source": [
        "# test Data -> 표준화\n",
        "from sklearn.preprocessing import StandardScaler, RobustScaler\n",
        "Scaler = StandardScaler()\n",
        "df = test[['Gr Liv Area', 'Garage Area', 'Total Bsmt SF', '1st Flr SF', 'Year Built', 'Year Remod/Add', 'Garage Yr Blt']]\n",
        "\n",
        "Scaler.fit(df)\n",
        "Scaled_df = Scaler.transform(df)\n",
        "Scaled_df = pd.DataFrame(data = Scaled_df)\n",
        "test_ = test.copy()\n",
        "c = 0\n",
        "for i in df.columns:  \n",
        "  test[i] = Scaled_df[c]\n",
        "  c += 1"
      ],
      "metadata": {
        "id": "ZDuXxRscN1dr"
      },
      "execution_count": 26,
      "outputs": []
    },
    {
      "cell_type": "code",
      "source": [
        "test[['Gr Liv Area', 'Garage Area', 'Total Bsmt SF', '1st Flr SF', 'Year Built', 'Year Remod/Add', 'Garage Yr Blt']]"
      ],
      "metadata": {
        "id": "Fr994GqMcSqS"
      },
      "execution_count": null,
      "outputs": []
    },
    {
      "cell_type": "code",
      "source": [
        "train.describe()"
      ],
      "metadata": {
        "id": "pSctYoJ8TEcS"
      },
      "execution_count": null,
      "outputs": []
    },
    {
      "cell_type": "code",
      "source": [
        "# X / Y 분할\n",
        "X_train = train.drop(columns =['target'])\n",
        "y_train = train['target']\n",
        "\n",
        "# 나중에 array로 변경 예정\n",
        "x = train.drop(['target'], axis = 1)\n",
        "y = train['target']"
      ],
      "metadata": {
        "id": "T6NbFovbQ53b"
      },
      "execution_count": 28,
      "outputs": []
    },
    {
      "cell_type": "code",
      "source": [
        "# mae를 이용한 새로운 회귀성능지표\n",
        "def NMAE(real, pred):\n",
        "    mae = np.mean(np.abs(real-pred))\n",
        "    score = mae / np.mean(np.abs(real))\n",
        "    return score"
      ],
      "metadata": {
        "id": "SATHnSaKWaeU"
      },
      "execution_count": 29,
      "outputs": []
    },
    {
      "cell_type": "code",
      "source": [
        "from sklearn.ensemble import RandomForestRegressor, GradientBoostingRegressor\n",
        "from sklearn.linear_model import LinearRegression, Ridge, Lasso\n",
        "from xgboost import XGBRegressor\n",
        "\n",
        "#GridSearchCV by Dacon\n",
        "from sklearn.model_selection import GridSearchCV\n",
        "\n",
        "params = []\n",
        "params_rf = {'n_estimators' : [90, 150, 200, 1000],\n",
        "            'min_samples_split' : [1,2,3,4]}\n",
        "rf = RandomForestRegressor()\n",
        "params_gbr = {'loss' : ['huber', 'quantile'],\n",
        "             'learning_rate':[0.05,0.07,0.09,0.11,0.13,0.15],\n",
        "             'n_estimators':[60,80,90,110,120,140,150]}\n",
        "gbr = GradientBoostingRegressor()\n",
        "params_gbr = {'loss' : ['huber', 'quantile'],\n",
        "             'learning_rate':[0.05,0.07,0.09,0.11],\n",
        "             'n_estimators':[60,80,90,120,1000]}\n",
        "\n",
        "lso = Lasso()\n",
        "params_lso = {'alpha' : [0.0003, 0.0005, 0.001]}\n",
        "\n",
        "xgb = XGBRegressor()\n",
        "params_xgb = {'learning_rate':[0.05,0.07,0.09,0.11,0.13,0.15],\n",
        "             'n_estimators' : [40,70,100,250,500,1000]}\n",
        "\n",
        "params.append(params_rf)\n",
        "params.append(params_gbr)\n",
        "params.append(params_lso)\n",
        "params.append(params_xgb)\n",
        "\n",
        "estimators = []\n",
        "estimators.append(rf)\n",
        "estimators.append(gbr)\n",
        "estimators.append(lso)\n",
        "estimators.append(xgb)\n",
        "\n",
        "\n",
        "from tqdm.auto import tqdm\n",
        "def gridSearchCV(models,params):\n",
        "    best_models=[]\n",
        "    for i in tqdm(range(0,len(models))):\n",
        "        model_grid = GridSearchCV(models[i], params[i],n_jobs = -1, verbose=1, cv=5)\n",
        "        model_grid.fit(X_train,y_train)\n",
        "        best_models.append(model_grid.best_estimator_)\n",
        "    return best_models\n",
        "\n",
        "best_model_list = gridSearchCV(estimators,params)\n",
        "best_model_list"
      ],
      "metadata": {
        "colab": {
          "base_uri": "https://localhost:8080/",
          "height": 202,
          "referenced_widgets": [
            "44e42791b5af410b8edfcc01e4021909",
            "5d1a67bd695c4ce2a07ebda9cfac586b",
            "fb37f0e9b02a469595f837aa0fb7aaaf",
            "d90ac5638d8549dfa98825fe7aac430b",
            "367b2f39d39b4bc8ae215a373524d429",
            "b5e8375d73ef4207851b38802f83c0fe",
            "d34519eb88d945cfb2857d6585c2c1cc",
            "7c083797f3514e0d9007e21cd0ffd075",
            "61ccd7a6456442f3ac99517acd6dffda",
            "d16ce17553f24792b3468a34230c0a13",
            "9100d2cc5f8a4804b09b4ed532bf6016"
          ]
        },
        "id": "iJ4asNDfNhrX",
        "outputId": "e76f2881-8261-4d80-e094-50e75e4d81ed"
      },
      "execution_count": 31,
      "outputs": [
        {
          "output_type": "display_data",
          "data": {
            "application/vnd.jupyter.widget-view+json": {
              "model_id": "44e42791b5af410b8edfcc01e4021909",
              "version_minor": 0,
              "version_major": 2
            },
            "text/plain": [
              "  0%|          | 0/4 [00:00<?, ?it/s]"
            ]
          },
          "metadata": {}
        },
        {
          "output_type": "stream",
          "name": "stdout",
          "text": [
            "Fitting 5 folds for each of 16 candidates, totalling 80 fits\n",
            "Fitting 5 folds for each of 40 candidates, totalling 200 fits\n",
            "Fitting 5 folds for each of 3 candidates, totalling 15 fits\n",
            "Fitting 5 folds for each of 36 candidates, totalling 180 fits\n",
            "[08:16:28] WARNING: /workspace/src/objective/regression_obj.cu:152: reg:linear is now deprecated in favor of reg:squarederror.\n"
          ]
        },
        {
          "output_type": "execute_result",
          "data": {
            "text/plain": [
              "[RandomForestRegressor(min_samples_split=4, n_estimators=1000),\n",
              " GradientBoostingRegressor(learning_rate=0.07, loss='huber', n_estimators=90),\n",
              " Lasso(alpha=0.0005),\n",
              " XGBRegressor(learning_rate=0.09, n_estimators=70)]"
            ]
          },
          "metadata": {},
          "execution_count": 31
        }
      ]
    },
    {
      "cell_type": "code",
      "source": [
        "from sklearn.ensemble import VotingRegressor\n",
        "\n",
        "best_models = [\n",
        "    ('rf_reg', RandomForestRegressor(random_state = 11,\n",
        "                                 n_estimators = 1000,\n",
        "                                 min_samples_split = 4)),\n",
        "    \n",
        "    ('gb_reg', GradientBoostingRegressor(learning_rate=0.07,\n",
        "                                       loss='huber',\n",
        "                                       n_estimators=80)),\n",
        "    ('lso_reg', Lasso(alpha=0.005)),\n",
        "    ('xgb_reg', XGBRegressor(learning_rate=0.09, n_estimators=70))\n",
        "]\n",
        "\n",
        "\n",
        "VR = VotingRegressor(estimators = best_models)"
      ],
      "metadata": {
        "id": "co73kvOh6NF4"
      },
      "execution_count": 32,
      "outputs": []
    },
    {
      "cell_type": "code",
      "source": [
        "X_test = np.array(test)\n",
        "\n",
        "x = np.array(x)\n",
        "y = np.array(y)\n",
        "\n",
        "from sklearn.model_selection import KFold\n",
        "kfold = KFold(n_splits = 15, shuffle = True, random_state = 11)\n",
        "\n",
        "nmae_mean= []\n",
        "c = 0\n",
        "rf_result = np.zeros(test.shape[0])\n",
        "\n",
        "for train_idx, val_idx in kfold.split(x, y):\n",
        "\n",
        "    x_train, x_val = x[train_idx], x[val_idx]\n",
        "    y_train, y_val = y[train_idx], y[val_idx]\n",
        "\n",
        "    VR.fit(x_train, y_train)\n",
        "    pred_rf = VR.predict(x_val)\n",
        "\n",
        "    c += 1\n",
        "    nmae = NMAE(np.expm1(y_val), np.expm1(pred_rf))\n",
        "\n",
        "    print('교차 검증+앙상블{0}: {1}'.format(c, nmae))\n",
        "    nmae_mean.append(nmae)\n",
        "    rf_result += VR.predict(X_test)/10\n",
        "\n",
        "print('=> 총 교차 검증 평균:', np.mean(nmae_mean)) \n",
        "rf_result"
      ],
      "metadata": {
        "id": "HUN71DiZF1MR",
        "colab": {
          "base_uri": "https://localhost:8080/"
        },
        "outputId": "9f6241ec-6ed3-4185-90eb-5f670237c0c9"
      },
      "execution_count": 33,
      "outputs": [
        {
          "output_type": "stream",
          "name": "stdout",
          "text": [
            "[08:16:39] WARNING: /workspace/src/objective/regression_obj.cu:152: reg:linear is now deprecated in favor of reg:squarederror.\n",
            "교차 검증+앙상블1: 0.1098726863640191\n",
            "[08:16:49] WARNING: /workspace/src/objective/regression_obj.cu:152: reg:linear is now deprecated in favor of reg:squarederror.\n",
            "교차 검증+앙상블2: 0.10798673503837425\n",
            "[08:16:59] WARNING: /workspace/src/objective/regression_obj.cu:152: reg:linear is now deprecated in favor of reg:squarederror.\n",
            "교차 검증+앙상블3: 0.10102160049601182\n",
            "[08:17:08] WARNING: /workspace/src/objective/regression_obj.cu:152: reg:linear is now deprecated in favor of reg:squarederror.\n",
            "교차 검증+앙상블4: 0.08776256002835159\n",
            "[08:17:18] WARNING: /workspace/src/objective/regression_obj.cu:152: reg:linear is now deprecated in favor of reg:squarederror.\n",
            "교차 검증+앙상블5: 0.09304704312876652\n",
            "[08:17:28] WARNING: /workspace/src/objective/regression_obj.cu:152: reg:linear is now deprecated in favor of reg:squarederror.\n",
            "교차 검증+앙상블6: 0.08447590469117036\n",
            "[08:17:38] WARNING: /workspace/src/objective/regression_obj.cu:152: reg:linear is now deprecated in favor of reg:squarederror.\n",
            "교차 검증+앙상블7: 0.08854124668759947\n",
            "[08:17:48] WARNING: /workspace/src/objective/regression_obj.cu:152: reg:linear is now deprecated in favor of reg:squarederror.\n",
            "교차 검증+앙상블8: 0.07972888418231695\n",
            "[08:17:58] WARNING: /workspace/src/objective/regression_obj.cu:152: reg:linear is now deprecated in favor of reg:squarederror.\n",
            "교차 검증+앙상블9: 0.08213070917270733\n",
            "[08:18:07] WARNING: /workspace/src/objective/regression_obj.cu:152: reg:linear is now deprecated in favor of reg:squarederror.\n",
            "교차 검증+앙상블10: 0.08021326535455767\n",
            "[08:18:17] WARNING: /workspace/src/objective/regression_obj.cu:152: reg:linear is now deprecated in favor of reg:squarederror.\n",
            "교차 검증+앙상블11: 0.09626948845452911\n",
            "[08:18:27] WARNING: /workspace/src/objective/regression_obj.cu:152: reg:linear is now deprecated in favor of reg:squarederror.\n",
            "교차 검증+앙상블12: 0.09098544052017447\n",
            "[08:18:37] WARNING: /workspace/src/objective/regression_obj.cu:152: reg:linear is now deprecated in favor of reg:squarederror.\n",
            "교차 검증+앙상블13: 0.10344466118488901\n",
            "[08:18:47] WARNING: /workspace/src/objective/regression_obj.cu:152: reg:linear is now deprecated in favor of reg:squarederror.\n",
            "교차 검증+앙상블14: 0.09574675853050048\n",
            "[08:18:57] WARNING: /workspace/src/objective/regression_obj.cu:152: reg:linear is now deprecated in favor of reg:squarederror.\n",
            "교차 검증+앙상블15: 0.10137761494823129\n",
            "=> 총 교차 검증 평균: 0.09350697325214662\n"
          ]
        },
        {
          "output_type": "execute_result",
          "data": {
            "text/plain": [
              "array([19.13949271, 17.40826   , 18.08232732, ..., 16.82118507,\n",
              "       18.2317393 , 17.75079018])"
            ]
          },
          "metadata": {},
          "execution_count": 33
        }
      ]
    },
    {
      "cell_type": "code",
      "source": [
        "sub = pd.read_csv('sample_data/sample_submission.csv')\n",
        "# log 값 복원\n",
        "sub['target'] = np.expm1(rf_result)\n",
        "sub.to_csv(('submission.csv'), index=False) "
      ],
      "metadata": {
        "id": "5Fr2RvNhI1rv"
      },
      "execution_count": 35,
      "outputs": []
    },
    {
      "cell_type": "code",
      "source": [
        ""
      ],
      "metadata": {
        "id": "E0fYooO_O8ld"
      },
      "execution_count": null,
      "outputs": []
    }
  ]
}
